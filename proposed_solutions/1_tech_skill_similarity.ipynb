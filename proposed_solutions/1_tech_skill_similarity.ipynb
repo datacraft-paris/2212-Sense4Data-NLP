{
 "cells": [
  {
   "cell_type": "markdown",
   "id": "d05ded67",
   "metadata": {},
   "source": [
    "# Similarité de compétences techniques"
   ]
  },
  {
   "cell_type": "markdown",
   "id": "0341d810",
   "metadata": {},
   "source": [
    "Objectif: Construire une métrique de similarité entre compétences techniques à partir de profils d'employés\n",
    "\n",
    "Exercices:\n",
    "1. Exploration et visualisation de la donnée\n",
    "2. Trouver les 10 compétences les plus pertinentes à un métier. Par exemple: 'analyste de risques'\n",
    "3. Trouver les 10 compétences les plus similaires à une autre compétence. Par exemple: 'Python'\n",
    "4. Trouver le métier qui a le plus de compétences en commun avec un autre métier. Par exemple 'responsable de projet'"
   ]
  },
  {
   "cell_type": "code",
   "execution_count": 1,
   "id": "2e2d2183",
   "metadata": {},
   "outputs": [],
   "source": [
    "from sklearn.feature_extraction.text import TfidfVectorizer\n",
    "from scipy.spatial.distance import cosine\n",
    "import matplotlib.pyplot as plt\n",
    "import pandas as pd\n",
    "import numpy as np\n",
    "import re\n",
    "import warnings\n",
    "warnings.filterwarnings(\"ignore\")"
   ]
  },
  {
   "cell_type": "code",
   "execution_count": 2,
   "id": "75009882",
   "metadata": {},
   "outputs": [],
   "source": [
    "df_skills = pd.read_csv('employee_skills.csv') #get skills per profile\n",
    "df_profiles = pd.read_csv('employee_profiles.csv') #get job title per profile"
   ]
  },
  {
   "cell_type": "code",
   "execution_count": 3,
   "id": "d76f1c32",
   "metadata": {},
   "outputs": [
    {
     "data": {
      "text/html": [
       "<div>\n",
       "<style scoped>\n",
       "    .dataframe tbody tr th:only-of-type {\n",
       "        vertical-align: middle;\n",
       "    }\n",
       "\n",
       "    .dataframe tbody tr th {\n",
       "        vertical-align: top;\n",
       "    }\n",
       "\n",
       "    .dataframe thead th {\n",
       "        text-align: right;\n",
       "    }\n",
       "</style>\n",
       "<table border=\"1\" class=\"dataframe\">\n",
       "  <thead>\n",
       "    <tr style=\"text-align: right;\">\n",
       "      <th></th>\n",
       "      <th>id_profile</th>\n",
       "      <th>jobtitle</th>\n",
       "    </tr>\n",
       "  </thead>\n",
       "  <tbody>\n",
       "    <tr>\n",
       "      <th>0</th>\n",
       "      <td>918318</td>\n",
       "      <td>responsable de projet</td>\n",
       "    </tr>\n",
       "    <tr>\n",
       "      <th>1</th>\n",
       "      <td>835172</td>\n",
       "      <td>webmaster</td>\n",
       "    </tr>\n",
       "    <tr>\n",
       "      <th>2</th>\n",
       "      <td>814422</td>\n",
       "      <td>développeur</td>\n",
       "    </tr>\n",
       "    <tr>\n",
       "      <th>3</th>\n",
       "      <td>503545</td>\n",
       "      <td>responsable de projet</td>\n",
       "    </tr>\n",
       "    <tr>\n",
       "      <th>4</th>\n",
       "      <td>49282</td>\n",
       "      <td>responsable de projet</td>\n",
       "    </tr>\n",
       "  </tbody>\n",
       "</table>\n",
       "</div>"
      ],
      "text/plain": [
       "   id_profile               jobtitle\n",
       "0      918318  responsable de projet\n",
       "1      835172              webmaster\n",
       "2      814422            développeur\n",
       "3      503545  responsable de projet\n",
       "4       49282  responsable de projet"
      ]
     },
     "execution_count": 3,
     "metadata": {},
     "output_type": "execute_result"
    }
   ],
   "source": [
    "df_profiles.head()"
   ]
  },
  {
   "cell_type": "code",
   "execution_count": 4,
   "id": "4ecc1bcf",
   "metadata": {},
   "outputs": [
    {
     "data": {
      "text/html": [
       "<div>\n",
       "<style scoped>\n",
       "    .dataframe tbody tr th:only-of-type {\n",
       "        vertical-align: middle;\n",
       "    }\n",
       "\n",
       "    .dataframe tbody tr th {\n",
       "        vertical-align: top;\n",
       "    }\n",
       "\n",
       "    .dataframe thead th {\n",
       "        text-align: right;\n",
       "    }\n",
       "</style>\n",
       "<table border=\"1\" class=\"dataframe\">\n",
       "  <thead>\n",
       "    <tr style=\"text-align: right;\">\n",
       "      <th></th>\n",
       "      <th>id_profile</th>\n",
       "      <th>skill</th>\n",
       "    </tr>\n",
       "  </thead>\n",
       "  <tbody>\n",
       "    <tr>\n",
       "      <th>0</th>\n",
       "      <td>918318</td>\n",
       "      <td>Consulting</td>\n",
       "    </tr>\n",
       "    <tr>\n",
       "      <th>1</th>\n",
       "      <td>918318</td>\n",
       "      <td>Management</td>\n",
       "    </tr>\n",
       "    <tr>\n",
       "      <th>2</th>\n",
       "      <td>918318</td>\n",
       "      <td>Project Management</td>\n",
       "    </tr>\n",
       "    <tr>\n",
       "      <th>3</th>\n",
       "      <td>918318</td>\n",
       "      <td>Change Management</td>\n",
       "    </tr>\n",
       "    <tr>\n",
       "      <th>4</th>\n",
       "      <td>918318</td>\n",
       "      <td>Marketing</td>\n",
       "    </tr>\n",
       "  </tbody>\n",
       "</table>\n",
       "</div>"
      ],
      "text/plain": [
       "   id_profile               skill\n",
       "0      918318          Consulting\n",
       "1      918318          Management\n",
       "2      918318  Project Management\n",
       "3      918318   Change Management\n",
       "4      918318           Marketing"
      ]
     },
     "execution_count": 4,
     "metadata": {},
     "output_type": "execute_result"
    }
   ],
   "source": [
    "df_skills.head()"
   ]
  },
  {
   "cell_type": "markdown",
   "id": "d3ea5f60",
   "metadata": {},
   "source": [
    "### Preprocessing"
   ]
  },
  {
   "cell_type": "code",
   "execution_count": 5,
   "id": "3a247237",
   "metadata": {},
   "outputs": [],
   "source": [
    "def normalize_punkt(text: str) -> str:\n",
    "    \"\"\"Normalize punktuation\"\"\"\n",
    "    punkt = [\"!\",\"$\", \"%\", \",\", \":\", \";\", \"?\", \"[\", \"]\", \"|\"]\n",
    "    for p in punkt:\n",
    "        text = text.replace(p, ' '+p+' ')\n",
    "    return text.strip()\n",
    "\n",
    "\n",
    "def cleaning_punktuation(text: str) -> str:\n",
    "    \"\"\"Prepares text for keywords extractions.\"\"\"\n",
    "\n",
    "    to_clean = normalize_punkt(text) #Adding space between some punktuations\n",
    "    to_clean = to_clean.replace('\\n', ' ') # when job_title finishes in next line\n",
    "    to_clean = re.sub('\\s+', ' ', to_clean) # replacing all spaces caracters by one\n",
    "    to_clean = to_clean.replace(',', ' , ')\n",
    "\n",
    "    # Case where there is '.' in text:\n",
    "    if '.' in to_clean:\n",
    "        if re.findall(r'\\D[0-9]+\\.[\\S]',\n",
    "                      to_clean) != []:  # On nettoye les cas avec des versions de framework dans les keywords uniquement\n",
    "            to_clean = re.sub(r'\\D[0-9]+\\.[\\S]', '', to_clean)\n",
    "        if ' . ' in to_clean:\n",
    "            to_clean = to_clean.replace(' . ', '')\n",
    "        elif to_clean.endswith('.'):\n",
    "            to_clean = to_clean[:-1]\n",
    "\n",
    "    # Case where there is '-' in text\n",
    "    if '-' in to_clean:\n",
    "        if re.findall('\\w+-\\w+', to_clean) != []:\n",
    "            compound_words = re.findall('\\w{4,}-\\w{4,}', to_clean)\n",
    "            for cw in compound_words:\n",
    "                to_clean = to_clean.replace(cw,\n",
    "                                            cw.replace('-', ' '))  # Avoid cleaning tech words like ('e-commerce', '')\n",
    "        else:\n",
    "            to_clean = to_clean.replace('-', ' ')\n",
    "\n",
    "    # Plus/hashtag sign cleaned only if it's surrounded by spaces\n",
    "    to_clean = to_clean.replace(' + ', ' ').replace(' # ', ' ').replace('_', ' ')\n",
    "\n",
    "    # Replacing apostrophe '’' by '''\n",
    "    to_clean = re.sub(\" *' *\", \"'\", to_clean.replace('’', \"'\"))\n",
    "\n",
    "    # Replacing articles with apostrophes\n",
    "    to_clean = re.sub(\"d'\", \"\", to_clean)\n",
    "    to_clean = re.sub(\"l'\", \"\", to_clean)\n",
    "\n",
    "    # Replacing /() by spaces\n",
    "    to_clean = to_clean.replace('/', ' ').replace('(', ' ').replace(')', ' ').replace('* ', '').replace('- ', '').replace(':', '')\n",
    "\n",
    "    # Case where there is '&' in text\n",
    "    to_clean = to_clean.replace(' & ', ' et ')\n",
    "\n",
    "    # cleaning isolated numbers\n",
    "    to_clean = re.sub(' [0-9] ', '', to_clean)\n",
    "\n",
    "    cleaned = re.sub('\\s+', ' ', to_clean.strip())\n",
    "\n",
    "    return cleaned.lower()\n",
    "\n"
   ]
  },
  {
   "cell_type": "code",
   "execution_count": 6,
   "id": "dd677828",
   "metadata": {},
   "outputs": [],
   "source": [
    "df_skills['skill'] = df_skills['skill'].apply(lambda x: cleaning_punktuation(x))"
   ]
  },
  {
   "cell_type": "markdown",
   "id": "16e22562",
   "metadata": {},
   "source": [
    "### Get a dataframe per job title"
   ]
  },
  {
   "cell_type": "markdown",
   "id": "fd9673fd",
   "metadata": {},
   "source": [
    "Since we are interested in getting the most significant technical skills for each job title (e.g. what skills charecterize the most \"Responsable de projet\" in our dataset), we split our data in several dataframes based on the job titles."
   ]
  },
  {
   "cell_type": "code",
   "execution_count": 7,
   "id": "2e7bad5a",
   "metadata": {},
   "outputs": [
    {
     "data": {
      "text/plain": [
       "responsable de projet    4427\n",
       "analyste de risques      4151\n",
       "webmaster                3360\n",
       "ingénieur r&d            3331\n",
       "développeur              3253\n",
       "Name: jobtitle, dtype: int64"
      ]
     },
     "execution_count": 7,
     "metadata": {},
     "output_type": "execute_result"
    }
   ],
   "source": [
    "df_profiles['jobtitle'].value_counts() #we get 5 types of job titles"
   ]
  },
  {
   "cell_type": "code",
   "execution_count": 8,
   "id": "7e96b48b",
   "metadata": {},
   "outputs": [],
   "source": [
    "def get_df_job(job_name):\n",
    "    \"\"\"\n",
    "    Get a dataframe of skills containing only the rows of the skills\n",
    "    related  to a specific job\n",
    "    \n",
    "    \"\"\"\n",
    "    df_new = df_profiles.loc[df_profiles['jobtitle']== job_name]\n",
    "    df_skills_new = df_skills.loc[df_skills['id_profile'].isin(df_new['id_profile'])]\n",
    "    \n",
    "    return df_skills_new"
   ]
  },
  {
   "cell_type": "code",
   "execution_count": 9,
   "id": "9aa65f46",
   "metadata": {},
   "outputs": [],
   "source": [
    "# get df containing skills for each job title\n",
    "df_skills_responsable_projet = get_df_job('responsable de projet')\n",
    "df_skills_analyste_de_risques = get_df_job('analyste de risques')\n",
    "df_skills_webmaster = get_df_job('webmaster')\n",
    "df_skills_ingénieur_rd = get_df_job('ingénieur r&d')\n",
    "df_skills_developpeur = get_df_job('développeur')"
   ]
  },
  {
   "cell_type": "markdown",
   "id": "1e5f81cd",
   "metadata": {},
   "source": [
    "### TF-IDF\n",
    "We are using TF-IDF (term frequency - inversed document frequency) to:\n",
    "- get the most significant skills for each job title based on the scores per skill\n",
    "- map words into an n-dimensional vector space to be able to get the most similar skills"
   ]
  },
  {
   "cell_type": "code",
   "execution_count": 10,
   "id": "f4599753",
   "metadata": {},
   "outputs": [],
   "source": [
    "def identity_tokenizer(text):\n",
    "    \"\"\"\n",
    "    Function allowing to pass a list of words to sklearn vectorizer\n",
    "    \"\"\"\n",
    "    return text\n",
    "\n",
    "\n",
    "def get_tfidf_results(df):\n",
    "    \"\"\"\n",
    "    Get vectors using tfidf\n",
    "    \n",
    "    :param df: dataframe containing either skills for a specific job\n",
    "    :return: tfidf object, X - matrix with a row per profile and column per word, \n",
    "    res_df - dataframe with a row per profile and column per word\n",
    "    \"\"\"\n",
    "    \n",
    "    #list of lists of skills\n",
    "    list_profile_skills = [] \n",
    "    \n",
    "    # grouped skills per profile\n",
    "    temp_df = df.groupby(by=\"id_profile\", dropna=False)['skill']\n",
    "\n",
    "    \n",
    "    for profile in temp_df:\n",
    "        list_profile_skills.append(profile[1].tolist())\n",
    "\n",
    "    tfidf = TfidfVectorizer(tokenizer=identity_tokenizer, lowercase=False, max_features = 5000)\n",
    "\n",
    "    tfidf.fit(list_profile_skills) \n",
    "    X = tfidf.transform(list_profile_skills).toarray()  \n",
    "    res_df = pd.DataFrame(X, columns=tfidf.vocabulary_)\n",
    "\n",
    "    return tfidf, X, res_df\n",
    "    \n",
    "\n",
    "def get_top_n_skills(n, df_job_title, job_title):\n",
    "    \"\"\"\n",
    "    Get n most significant skills for a specific job title\n",
    "    \n",
    "    :param n: number of most significant skills to return\n",
    "    :param df_job_title: dataframe with the skills for a specific job title\n",
    "    :param job_title: str name of the job title of interest\n",
    "    \n",
    "    \"\"\"\n",
    "    \n",
    "    tfidf, X, df_res =  get_tfidf_results(df_job_title) \n",
    "    \n",
    "    feature_array = np.array(tfidf.get_feature_names())\n",
    "    tfidf_sorting = np.argsort(X).flatten()[::-1]\n",
    "    \n",
    "    top_n = feature_array[tfidf_sorting][:n]\n",
    "    \n",
    "    print(f'The most significant skills for {job_title.upper()}:\\n')\n",
    "    print(*top_n, sep = \"\\n\")\n"
   ]
  },
  {
   "cell_type": "code",
   "execution_count": 11,
   "id": "d1bee1df",
   "metadata": {
    "scrolled": true
   },
   "outputs": [
    {
     "name": "stdout",
     "output_type": "stream",
     "text": [
      "The most significant skills for ANALYSTE DE RISQUES:\n",
      "\n",
      "heat exchangers\n",
      "innovation technologique\n",
      "management fonctionnel\n",
      "energy management\n",
      "processus achat\n",
      "gestion des fournisseurs\n",
      "droit des marchés publics\n",
      "gestion des achats\n",
      "génie civil\n",
      "project engineering\n"
     ]
    }
   ],
   "source": [
    "get_top_n_skills(10, df_skills_analyste_de_risques, 'analyste de risques') # put any job title of interest"
   ]
  },
  {
   "cell_type": "markdown",
   "id": "27239f85",
   "metadata": {},
   "source": [
    "### Results of most significant skills"
   ]
  },
  {
   "cell_type": "markdown",
   "id": "5e59c622",
   "metadata": {},
   "source": [
    "TF-IDF is proved to be useful for the tasks dependent on the lexical level features. From the results we can see that the most significant skills make sense for a specific job title. This method is very sensitive to the noisy input data. The highest TF-IDF score may not make sense with the topic of the profile skills, since IDF gives high weight if the DF of a term is low.\n",
    "\n",
    "Other possible approaches:\n",
    "- LDA topic modeling"
   ]
  },
  {
   "cell_type": "code",
   "execution_count": 12,
   "id": "2f9ad482",
   "metadata": {},
   "outputs": [],
   "source": [
    "def get_similar_skills(skill, n):      \n",
    "    \"\"\"\n",
    "    Given a skill get n most similar skills\n",
    "    \n",
    "    :param skill: a string of a skill for which we find the closest skill\n",
    "    :param n: number of closest skills to return\n",
    "    \n",
    "    :return: dict of closest skills and their cosine similarity scores\n",
    "    \"\"\"\n",
    "    tfidf, X, df =  get_tfidf_results(df_skills) # \n",
    "    \n",
    "    list_score = []\n",
    "    for c in df.columns:\n",
    "        if c!=skill:\n",
    "            tup = ( 1 - cosine(df[skill], df[c]), c) #compare skills from the tfidf dataframe\n",
    "            list_score.append(tup)\n",
    "            \n",
    "    close_skills = sorted(list_score, reverse = True)[:n]\n",
    "    score_list, skill_list = zip(*close_skills) \n",
    "    \n",
    "    plt.bar(skill_list, score_list, color = '#C76EFF')\n",
    "    plt.xticks(rotation=90)\n",
    "    plt.show()\n",
    "    \n",
    "    return close_skills"
   ]
  },
  {
   "cell_type": "code",
   "execution_count": 13,
   "id": "acb39d9c",
   "metadata": {},
   "outputs": [
    {
     "data": {
      "image/png": "[encoded data removed]",
      "text/plain": [
       "<Figure size 432x288 with 1 Axes>"
      ]
     },
     "metadata": {
      "needs_background": "light"
     },
     "output_type": "display_data"
    }
   ],
   "source": [
    "list_score_skill = get_similar_skills(\"python\", 10)"
   ]
  },
  {
   "cell_type": "markdown",
   "id": "fa2dd832",
   "metadata": {},
   "source": [
    "### Jaccard"
   ]
  },
  {
   "cell_type": "code",
   "execution_count": 14,
   "id": "6aa5ac4c",
   "metadata": {},
   "outputs": [],
   "source": [
    "def get_skill_ids(df):\n",
    "    \"\"\"\n",
    "    Get a dict with skills as keys and list of profile ids as values\n",
    "    \n",
    "    :param df: skills dataframe for a specific job \n",
    "    :return: dict with skill as key and job ids as value\n",
    "    \"\"\"\n",
    "    dic_profile_skills = {}\n",
    "    temp = df.groupby(by = 'skill')['id_profile']#grouped df by skill to get ids\n",
    "\n",
    "    for profile in temp:\n",
    "        dic_profile_skills[profile[0]] = profile[1].tolist()\n",
    "        \n",
    "    return dic_profile_skills\n",
    "\n",
    "def jaccard_set(list1, list2):\n",
    "    \"\"\"Jaccard Similarity function for two sets\"\"\"\n",
    "    \n",
    "    intersection = len((set(list1).intersection(list2)))\n",
    "    union = len(set(list1).union(set(list2)))\n",
    "    return float(intersection) / union\n",
    "\n",
    "def get_similar_skill_jaccard(df_job, skill, n):\n",
    "    \"\"\"\n",
    "    Given a skill get the closest skill based on the jaccard scores\n",
    "    :param dic_profile_skill: dict where key is skill and value is list of ids of profiles\n",
    "    :param skill: skill name for which we want to find the closest skills\n",
    "    :param n: number of the closest skills \n",
    "    :return: dict of the closest skills\n",
    "    \"\"\"\n",
    "    dic_skill_score = {}\n",
    "    \n",
    "    dic_profile_skills = get_skill_ids(df_job)\n",
    "    list_ids_skill = dic_profile_skills[skill]\n",
    "    \n",
    "    for skill_compare, ids_compare in dic_profile_skills.items():\n",
    "        if skill!= skill_compare:\n",
    "            dic_skill_score[skill_compare] =jaccard_set(list_ids_skill, ids_compare)\n",
    "    \n",
    "    close_skills = sorted(dic_skill_score.items(), key=lambda kv: kv[1], reverse= True)[:n]\n",
    "    \n",
    "    score_list = [x[0] for x in close_skills]\n",
    "    skill_list = [x[1] for x in close_skills]\n",
    "    \n",
    "    \n",
    "    plt.bar(score_list, skill_list, color = '#C76EFF')\n",
    "    plt.xticks(rotation=90)\n",
    "    plt.show()\n",
    "    return close_skills"
   ]
  },
  {
   "cell_type": "code",
   "execution_count": 15,
   "id": "fae7723a",
   "metadata": {},
   "outputs": [
    {
     "data": {
      "image/png": "[encoded data removed]",
      "text/plain": [
       "<Figure size 432x288 with 1 Axes>"
      ]
     },
     "metadata": {
      "needs_background": "light"
     },
     "output_type": "display_data"
    },
    {
     "data": {
      "text/plain": [
       "[('c++', 0.28054118583366494),\n",
       " ('c', 0.2740619902120718),\n",
       " ('java', 0.25055785782594836),\n",
       " ('linux', 0.23586671658554847),\n",
       " ('sql', 0.20915411355735805),\n",
       " ('git', 0.19229397074562968),\n",
       " ('matlab', 0.17863247863247864),\n",
       " ('javascript', 0.169872595553335),\n",
       " ('php', 0.14632814632814634),\n",
       " ('r', 0.1335816923895689)]"
      ]
     },
     "execution_count": 15,
     "metadata": {},
     "output_type": "execute_result"
    }
   ],
   "source": [
    " get_similar_skill_jaccard(df_skills, \"python\", 10)"
   ]
  },
  {
   "cell_type": "markdown",
   "id": "dea9f474",
   "metadata": {},
   "source": [
    "### Results of similar results\n",
    "Comparing TF-IDF and Jaccard scoring methods, we can see that created vectors using TF-IDF yield the most similar skills that make less sense than those that were created by Jaccard scoring. This might be due to the fact that IDF gives high weight if the DF of a term is low.\n",
    "\n",
    "Other possible approcahes:\n",
    "- get word2vec for each skill and calculate cosine similarity"
   ]
  },
  {
   "cell_type": "code",
   "execution_count": 16,
   "id": "ffe713f1",
   "metadata": {},
   "outputs": [],
   "source": [
    "list_df_jobs = [\n",
    "    ('responsable de projet',df_skills_responsable_projet),\\\n",
    "    ('analyste de risque',df_skills_analyste_de_risques),\\\n",
    "    ('webmaster',df_skills_webmaster), \\\n",
    "    ('ingénieur r&d',df_skills_ingénieur_rd),\\\n",
    "    ('développeur',df_skills_developpeur)\n",
    "    ]"
   ]
  },
  {
   "cell_type": "code",
   "execution_count": 17,
   "id": "1bcf22c4",
   "metadata": {},
   "outputs": [],
   "source": [
    "def get_closest_job_title(df_job_title, job_title):\n",
    "    \"\"\"\n",
    "    Given dataframe of the job find the closest job\n",
    "    \n",
    "    :param df_job_title: dataframe of job in interest\n",
    "    :param job_title: str name of the job in interest\n",
    "    :return: sorted dict with jaccard scores of skills\n",
    "    \"\"\"\n",
    "    dic_scores = {}\n",
    "    set_skills_job_title = set(df_job_title['skill'].tolist())\n",
    "    \n",
    "    for tup in list_df_jobs:\n",
    "        job_name, df = tup\n",
    "        if str(df)!= str(df_job_title):\n",
    "            dic_scores[job_name] = jaccard_set(set_skills_job_title,\\\n",
    "             set(df['skill'].tolist()))\n",
    "    \n",
    "    sorted_dic = sorted(dic_scores.items(), key=lambda kv: kv[1], reverse = True)\n",
    "    print(f'Most similar job title to {job_title.upper()} is {sorted_dic[0][0].upper()}')\n",
    "    return sorted_dic\n",
    "            "
   ]
  },
  {
   "cell_type": "code",
   "execution_count": 18,
   "id": "95a62ff7",
   "metadata": {},
   "outputs": [
    {
     "name": "stdout",
     "output_type": "stream",
     "text": [
      "Most similar job title to RESPONSABLE DE PROJET is WEBMASTER\n"
     ]
    },
    {
     "data": {
      "text/plain": [
       "[('webmaster', 0.2539832483153851),\n",
       " ('analyste de risque', 0.23500725689404936),\n",
       " ('développeur', 0.2031205061834915),\n",
       " ('ingénieur r&d', 0.19014719134875338)]"
      ]
     },
     "execution_count": 18,
     "metadata": {},
     "output_type": "execute_result"
    }
   ],
   "source": [
    "get_closest_job_title(df_skills_responsable_projet, 'responsable de projet')"
   ]
  },
  {
   "cell_type": "code",
   "execution_count": 19,
   "id": "57ded7c7",
   "metadata": {},
   "outputs": [
    {
     "name": "stdout",
     "output_type": "stream",
     "text": [
      "Most similar job title to ANALYSTE DE RISQUES is RESPONSABLE DE PROJET\n"
     ]
    },
    {
     "data": {
      "text/plain": [
       "[('responsable de projet', 0.23500725689404936),\n",
       " ('webmaster', 0.20307348092322186),\n",
       " ('ingénieur r&d', 0.17942916811695092),\n",
       " ('développeur', 0.1652596744782873)]"
      ]
     },
     "execution_count": 19,
     "metadata": {},
     "output_type": "execute_result"
    }
   ],
   "source": [
    "get_closest_job_title(df_skills_analyste_de_risques, 'analyste de risques')"
   ]
  }
 ],
 "metadata": {
  "kernelspec": {
   "display_name": "Python 3 (ipykernel)",
   "language": "python",
   "name": "python3"
  },
  "language_info": {
   "codemirror_mode": {
    "name": "ipython",
    "version": 3
   },
   "file_extension": ".py",
   "mimetype": "text/x-python",
   "name": "python",
   "nbconvert_exporter": "python",
   "pygments_lexer": "ipython3",
   "version": "3.8.11"
  }
 },
 "nbformat": 4,
 "nbformat_minor": 5
}
