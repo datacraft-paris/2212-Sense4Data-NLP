{
 "cells": [
  {
   "cell_type": "markdown",
   "metadata": {
    "collapsed": true,
    "pycharm": {
     "name": "#%% md\n"
    }
   },
   "source": [
    "# Matching profiles and offers"
   ]
  },
  {
   "cell_type": "markdown",
   "metadata": {},
   "source": [
    "Objectif: Trouver les profils d'employées qui correspondent le mieux à chaque offre\n",
    "\n",
    "Exercices:\n",
    "\n",
    "1. Pour chaque offre, trouver l'employé pour lequel les compétences techniques et les compétences longues correspondent le mieux.\n",
    "\n",
    "Note: Les fonctions `offer_to_word_doc` et `profile_to_word_doc` dans `utils.py` aident à formatter un profil ou une offre en document Word pour aider à les visualiser."
   ]
  },
  {
   "cell_type": "code",
   "execution_count": 1,
   "metadata": {
    "pycharm": {
     "name": "#%%\n"
    }
   },
   "outputs": [
    {
     "name": "stderr",
     "output_type": "stream",
     "text": [
      "[nltk_data] Downloading package stopwords to\n",
      "[nltk_data]     /home/philippe/nltk_data...\n",
      "[nltk_data]   Package stopwords is already up-to-date!\n"
     ]
    },
    {
     "data": {
      "text/plain": [
       "True"
      ]
     },
     "execution_count": 1,
     "metadata": {},
     "output_type": "execute_result"
    }
   ],
   "source": [
    "import re\n",
    "\n",
    "import nltk\n",
    "import pandas as pd\n",
    "from flashtext import KeywordProcessor\n",
    "from nltk import stem\n",
    "from os.path import join\n",
    "from scipy.sparse import csr_matrix\n",
    "from sklearn.feature_extraction.text import TfidfVectorizer\n",
    "from sklearn.metrics.pairwise import cosine_similarity\n",
    "from tqdm.notebook import tqdm\n",
    "from unidecode import unidecode\n",
    "from utils import offer_to_word_doc, profile_to_word_doc\n",
    "\n",
    "tqdm.pandas()\n",
    "nltk.download('stopwords')"
   ]
  },
  {
   "cell_type": "markdown",
   "metadata": {
    "pycharm": {
     "name": "#%% raw\n"
    }
   },
   "source": [
    "## Load and clean data\n",
    "We load all profile data: tech skills and experience descriptions are used to compute similarities, and profile job titles are used to check matching quality. We also load 10 offers for which we want to find the perfect profile."
   ]
  },
  {
   "cell_type": "code",
   "execution_count": 2,
   "metadata": {
    "pycharm": {
     "name": "#%%\n"
    }
   },
   "outputs": [],
   "source": [
    "df_profiles = pd.read_csv('employee_profiles.csv')\n",
    "df_skills = pd.read_csv('employee_skills.csv')\n",
    "df_experiences = pd.read_csv('employee_experiences.csv')\n",
    "df_offers = pd.read_csv('offers.csv')"
   ]
  },
  {
   "cell_type": "code",
   "execution_count": 3,
   "metadata": {
    "pycharm": {
     "name": "#%%\n"
    }
   },
   "outputs": [],
   "source": [
    "# Remove profiles with too few skills\n",
    "n_min_tech_skill = 10\n",
    "mask_keep_profiles = df_skills.groupby(by=\"id_profile\", sort=False).count() > n_min_tech_skill\n",
    "selected_profile_ids = mask_keep_profiles[mask_keep_profiles.values].index\n",
    "df_profiles = df_profiles[df_profiles['id_profile'].isin(selected_profile_ids)]\n",
    "df_skills = df_skills[df_skills['id_profile'].isin(selected_profile_ids)]\n",
    "df_experiences = df_experiences[df_experiences['id_profile'].isin(selected_profile_ids)]"
   ]
  },
  {
   "cell_type": "code",
   "execution_count": 4,
   "metadata": {
    "pycharm": {
     "name": "#%%\n"
    }
   },
   "outputs": [],
   "source": [
    "# Subsample data: only work with 3000 profiles to speed things up\n",
    "# n_sub_sample = 3000\n",
    "# df_profiles = df_profiles.iloc[:n_sub_sample]\n",
    "# selected_profile_ids = set(df_profiles['id_profile'])\n",
    "# df_skills = df_skills[df_skills['id_profile'].isin(selected_profile_ids)]\n",
    "# df_experiences = df_experiences[df_experiences['id_profile'].isin(selected_profile_ids)]"
   ]
  },
  {
   "cell_type": "markdown",
   "metadata": {
    "pycharm": {
     "name": "#%%\n"
    }
   },
   "source": [
    "# Matching 10 offers against all employees\n",
    "Looping through each offer, we compute tech skill and long skill similarity scores to all profiles. We sum the scores and output the profile that best matches the offer.\n",
    "Results are displayed below for all 10 offers."
   ]
  },
  {
   "cell_type": "code",
   "execution_count": 5,
   "metadata": {
    "pycharm": {
     "name": "#%%\n"
    },
    "scrolled": false
   },
   "outputs": [
    {
     "name": "stderr",
     "output_type": "stream",
     "text": [
      "/home/philippe/.anaconda3/envs/mobilite/lib/python3.8/site-packages/docx/styles/styles.py:139: UserWarning: style lookup by style_id is deprecated. Use style name as key instead.\n",
      "  return self._get_style_id_from_style(self[style_name], style_type)\n"
     ]
    },
    {
     "name": "stdout",
     "output_type": "stream",
     "text": [
      "\n",
      "Matching results for offer 0 (developpeur logiciel):\n",
      " \tCandidate #49282\n",
      "\tScore: 0.000 (tech_score=0.000, mission_score=0.000)\n",
      "\tJob title: responsable de projet\n",
      "\tSkills: ITIL, PMP, Project Management, Architecture, PMI, Lean Management, Linux, AIX, Oracle, Websphere, Tomcat, HACMP, KPI Dashboards, Gestion de projet, MBA, Gestion d’équipe\n",
      "\tExperiences: Co-fondateur, Chef de projet devops, Chef de projet informatique, Chef de projet d’infrastructure, Chef de projet technique, Ingénieur system et Réseaux\n",
      "\n",
      "\n",
      "Matching results for offer 1 (developpeur logiciel embarque c#):\n",
      " \tCandidate #49282\n",
      "\tScore: 0.000 (tech_score=0.000, mission_score=0.000)\n",
      "\tJob title: responsable de projet\n",
      "\tSkills: ITIL, PMP, Project Management, Architecture, PMI, Lean Management, Linux, AIX, Oracle, Websphere, Tomcat, HACMP, KPI Dashboards, Gestion de projet, MBA, Gestion d’équipe\n",
      "\tExperiences: Co-fondateur, Chef de projet devops, Chef de projet informatique, Chef de projet d’infrastructure, Chef de projet technique, Ingénieur system et Réseaux\n",
      "\n",
      "\n",
      "Matching results for offer 2 (chef de projet informatique):\n",
      " \tCandidate #49282\n",
      "\tScore: 0.000 (tech_score=0.000, mission_score=0.000)\n",
      "\tJob title: responsable de projet\n",
      "\tSkills: ITIL, PMP, Project Management, Architecture, PMI, Lean Management, Linux, AIX, Oracle, Websphere, Tomcat, HACMP, KPI Dashboards, Gestion de projet, MBA, Gestion d’équipe\n",
      "\tExperiences: Co-fondateur, Chef de projet devops, Chef de projet informatique, Chef de projet d’infrastructure, Chef de projet technique, Ingénieur system et Réseaux\n",
      "\n",
      "\n",
      "Matching results for offer 3 (chef de projet it):\n",
      " \tCandidate #49282\n",
      "\tScore: 0.000 (tech_score=0.000, mission_score=0.000)\n",
      "\tJob title: responsable de projet\n",
      "\tSkills: ITIL, PMP, Project Management, Architecture, PMI, Lean Management, Linux, AIX, Oracle, Websphere, Tomcat, HACMP, KPI Dashboards, Gestion de projet, MBA, Gestion d’équipe\n",
      "\tExperiences: Co-fondateur, Chef de projet devops, Chef de projet informatique, Chef de projet d’infrastructure, Chef de projet technique, Ingénieur system et Réseaux\n",
      "\n",
      "\n",
      "Matching results for offer 4 (developpeur web):\n",
      " \tCandidate #49282\n",
      "\tScore: 0.000 (tech_score=0.000, mission_score=0.000)\n",
      "\tJob title: responsable de projet\n",
      "\tSkills: ITIL, PMP, Project Management, Architecture, PMI, Lean Management, Linux, AIX, Oracle, Websphere, Tomcat, HACMP, KPI Dashboards, Gestion de projet, MBA, Gestion d’équipe\n",
      "\tExperiences: Co-fondateur, Chef de projet devops, Chef de projet informatique, Chef de projet d’infrastructure, Chef de projet technique, Ingénieur system et Réseaux\n",
      "\n",
      "\n",
      "Matching results for offer 5 (developpeur web senior):\n",
      " \tCandidate #49282\n",
      "\tScore: 0.000 (tech_score=0.000, mission_score=0.000)\n",
      "\tJob title: responsable de projet\n",
      "\tSkills: ITIL, PMP, Project Management, Architecture, PMI, Lean Management, Linux, AIX, Oracle, Websphere, Tomcat, HACMP, KPI Dashboards, Gestion de projet, MBA, Gestion d’équipe\n",
      "\tExperiences: Co-fondateur, Chef de projet devops, Chef de projet informatique, Chef de projet d’infrastructure, Chef de projet technique, Ingénieur system et Réseaux\n",
      "\n",
      "\n",
      "Matching results for offer 6 (Analyste Senior Risque Pays):\n",
      " \tCandidate #49282\n",
      "\tScore: 0.000 (tech_score=0.000, mission_score=0.000)\n",
      "\tJob title: responsable de projet\n",
      "\tSkills: ITIL, PMP, Project Management, Architecture, PMI, Lean Management, Linux, AIX, Oracle, Websphere, Tomcat, HACMP, KPI Dashboards, Gestion de projet, MBA, Gestion d’équipe\n",
      "\tExperiences: Co-fondateur, Chef de projet devops, Chef de projet informatique, Chef de projet d’infrastructure, Chef de projet technique, Ingénieur system et Réseaux\n",
      "\n",
      "\n",
      "Matching results for offer 7 (ANALYSTE RISQUES IT & CYBERSECURITÉ H/F):\n",
      " \tCandidate #49282\n",
      "\tScore: 0.000 (tech_score=0.000, mission_score=0.000)\n",
      "\tJob title: responsable de projet\n",
      "\tSkills: ITIL, PMP, Project Management, Architecture, PMI, Lean Management, Linux, AIX, Oracle, Websphere, Tomcat, HACMP, KPI Dashboards, Gestion de projet, MBA, Gestion d’équipe\n",
      "\tExperiences: Co-fondateur, Chef de projet devops, Chef de projet informatique, Chef de projet d’infrastructure, Chef de projet technique, Ingénieur system et Réseaux\n",
      "\n",
      "\n",
      "Matching results for offer 8 (Ingénieur R&D Procédés / Hydrogène):\n",
      " \tCandidate #49282\n",
      "\tScore: 0.000 (tech_score=0.000, mission_score=0.000)\n",
      "\tJob title: responsable de projet\n",
      "\tSkills: ITIL, PMP, Project Management, Architecture, PMI, Lean Management, Linux, AIX, Oracle, Websphere, Tomcat, HACMP, KPI Dashboards, Gestion de projet, MBA, Gestion d’équipe\n",
      "\tExperiences: Co-fondateur, Chef de projet devops, Chef de projet informatique, Chef de projet d’infrastructure, Chef de projet technique, Ingénieur system et Réseaux\n",
      "\n",
      "\n",
      "Matching results for offer 9 (Ingénieur Développement (R&D)):\n",
      " \tCandidate #49282\n",
      "\tScore: 0.000 (tech_score=0.000, mission_score=0.000)\n",
      "\tJob title: responsable de projet\n",
      "\tSkills: ITIL, PMP, Project Management, Architecture, PMI, Lean Management, Linux, AIX, Oracle, Websphere, Tomcat, HACMP, KPI Dashboards, Gestion de projet, MBA, Gestion d’équipe\n",
      "\tExperiences: Co-fondateur, Chef de projet devops, Chef de projet informatique, Chef de projet d’infrastructure, Chef de projet technique, Ingénieur system et Réseaux\n",
      "\n"
     ]
    }
   ],
   "source": [
    "match_dir = \"matching\"\n",
    "for i, offer in df_offers.iterrows():\n",
    "    # Convert offers to Word document\n",
    "    offer_to_word_doc(*df_offers[[\"jobtitle\", \"description\", \"contract\", \"company\", \"location\"]].iloc[i],\n",
    "                      out_file_name=join(match_dir, f\"{i}_offre.docx\"))\n",
    "    \n",
    "    ##################\n",
    "    # TODO: Matching #\n",
    "    ##################\n",
    "    best_profile_id = 49282\n",
    "    global_score = 0.0\n",
    "    tech_skill_score = 0.0\n",
    "    long_skill_score = 0.0\n",
    "    \n",
    "    # Convert best profile to Word document\n",
    "    profile_to_word_doc(best_profile_id, df_profiles, df_skills, df_experiences,\n",
    "                        out_file_name=join(match_dir, f\"{i}_candidate.docx\"))\n",
    "\n",
    "\n",
    "    # Best candidate\n",
    "    print(f\"\\nMatching results for offer {i} ({offer['jobtitle']}):\\n \"\n",
    "          f\"\\tCandidate #{best_profile_id}\\n\"\n",
    "          f\"\\tScore: {global_score:.3f} (tech_score={tech_skill_score:.3f}, mission_score={long_skill_score:.3f})\\n\"\n",
    "          f\"\\tJob title: {df_profiles.loc[df_profiles['id_profile'] == best_profile_id, 'jobtitle'].item()}\\n\"\n",
    "          f\"\\tSkills: {', '.join(df_skills.loc[df_skills['id_profile'] == best_profile_id, 'skill'])}\\n\"\n",
    "          f\"\\tExperiences: {', '.join(df_experiences.loc[df_experiences['id_profile'] == best_profile_id, 'title'])}\\n\")\n"
   ]
  }
 ],
 "metadata": {
  "kernelspec": {
   "display_name": "Python 3 (ipykernel)",
   "language": "python",
   "name": "python3"
  },
  "language_info": {
   "codemirror_mode": {
    "name": "ipython",
    "version": 3
   },
   "file_extension": ".py",
   "mimetype": "text/x-python",
   "name": "python",
   "nbconvert_exporter": "python",
   "pygments_lexer": "ipython3",
   "version": "3.8.11"
  }
 },
 "nbformat": 4,
 "nbformat_minor": 1
}
