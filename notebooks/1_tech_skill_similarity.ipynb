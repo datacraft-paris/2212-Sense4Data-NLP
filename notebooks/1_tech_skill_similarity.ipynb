{
 "cells": [
  {
   "cell_type": "markdown",
   "id": "d05ded67",
   "metadata": {},
   "source": [
    "# Similarité de compétences techniques"
   ]
  },
  {
   "cell_type": "markdown",
   "id": "0341d810",
   "metadata": {},
   "source": [
    "Objectif: Construire une métrique de similarité entre compétences techniques à partir de profils d'employés\n",
    "\n",
    "Exercices:\n",
    "1. Exploration et visualisation de la donnée\n",
    "2. Trouver les 10 compétences les plus pertinentes à un métier. Par exemple: 'analyste de risques'\n",
    "3. Trouver les 10 compétences les plus similaires à une autre compétence. Par exemple: 'Python'\n",
    "4. Trouver le métier qui a le plus de compétences en commun avec un autre métier. Par exemple 'responsable de projet'"
   ]
  },
  {
   "cell_type": "code",
   "execution_count": 1,
   "id": "2e2d2183",
   "metadata": {},
   "outputs": [],
   "source": [
    "from sklearn.feature_extraction.text import TfidfVectorizer\n",
    "from scipy.spatial.distance import cosine\n",
    "import matplotlib.pyplot as plt\n",
    "import pandas as pd\n",
    "import numpy as np\n",
    "import re\n",
    "import warnings\n",
    "warnings.filterwarnings(\"ignore\")"
   ]
  },
  {
   "cell_type": "code",
   "execution_count": 2,
   "id": "75009882",
   "metadata": {},
   "outputs": [],
   "source": [
    "df_skills = pd.read_csv('employee_skills.csv') #get skills per profile\n",
    "df_profiles = pd.read_csv('employee_profiles.csv') #get job title per profile"
   ]
  },
  {
   "cell_type": "code",
   "execution_count": 3,
   "id": "d76f1c32",
   "metadata": {},
   "outputs": [
    {
     "data": {
      "text/html": [
       "<div>\n",
       "<style scoped>\n",
       "    .dataframe tbody tr th:only-of-type {\n",
       "        vertical-align: middle;\n",
       "    }\n",
       "\n",
       "    .dataframe tbody tr th {\n",
       "        vertical-align: top;\n",
       "    }\n",
       "\n",
       "    .dataframe thead th {\n",
       "        text-align: right;\n",
       "    }\n",
       "</style>\n",
       "<table border=\"1\" class=\"dataframe\">\n",
       "  <thead>\n",
       "    <tr style=\"text-align: right;\">\n",
       "      <th></th>\n",
       "      <th>id_profile</th>\n",
       "      <th>jobtitle</th>\n",
       "    </tr>\n",
       "  </thead>\n",
       "  <tbody>\n",
       "    <tr>\n",
       "      <th>0</th>\n",
       "      <td>918318</td>\n",
       "      <td>responsable de projet</td>\n",
       "    </tr>\n",
       "    <tr>\n",
       "      <th>1</th>\n",
       "      <td>835172</td>\n",
       "      <td>webmaster</td>\n",
       "    </tr>\n",
       "    <tr>\n",
       "      <th>2</th>\n",
       "      <td>814422</td>\n",
       "      <td>développeur</td>\n",
       "    </tr>\n",
       "    <tr>\n",
       "      <th>3</th>\n",
       "      <td>503545</td>\n",
       "      <td>responsable de projet</td>\n",
       "    </tr>\n",
       "    <tr>\n",
       "      <th>4</th>\n",
       "      <td>49282</td>\n",
       "      <td>responsable de projet</td>\n",
       "    </tr>\n",
       "  </tbody>\n",
       "</table>\n",
       "</div>"
      ],
      "text/plain": [
       "   id_profile               jobtitle\n",
       "0      918318  responsable de projet\n",
       "1      835172              webmaster\n",
       "2      814422            développeur\n",
       "3      503545  responsable de projet\n",
       "4       49282  responsable de projet"
      ]
     },
     "execution_count": 3,
     "metadata": {},
     "output_type": "execute_result"
    }
   ],
   "source": [
    "df_profiles.head()"
   ]
  },
  {
   "cell_type": "code",
   "execution_count": 4,
   "id": "4ecc1bcf",
   "metadata": {},
   "outputs": [
    {
     "data": {
      "text/html": [
       "<div>\n",
       "<style scoped>\n",
       "    .dataframe tbody tr th:only-of-type {\n",
       "        vertical-align: middle;\n",
       "    }\n",
       "\n",
       "    .dataframe tbody tr th {\n",
       "        vertical-align: top;\n",
       "    }\n",
       "\n",
       "    .dataframe thead th {\n",
       "        text-align: right;\n",
       "    }\n",
       "</style>\n",
       "<table border=\"1\" class=\"dataframe\">\n",
       "  <thead>\n",
       "    <tr style=\"text-align: right;\">\n",
       "      <th></th>\n",
       "      <th>id_profile</th>\n",
       "      <th>skill</th>\n",
       "    </tr>\n",
       "  </thead>\n",
       "  <tbody>\n",
       "    <tr>\n",
       "      <th>0</th>\n",
       "      <td>918318</td>\n",
       "      <td>Consulting</td>\n",
       "    </tr>\n",
       "    <tr>\n",
       "      <th>1</th>\n",
       "      <td>918318</td>\n",
       "      <td>Management</td>\n",
       "    </tr>\n",
       "    <tr>\n",
       "      <th>2</th>\n",
       "      <td>918318</td>\n",
       "      <td>Project Management</td>\n",
       "    </tr>\n",
       "    <tr>\n",
       "      <th>3</th>\n",
       "      <td>918318</td>\n",
       "      <td>Change Management</td>\n",
       "    </tr>\n",
       "    <tr>\n",
       "      <th>4</th>\n",
       "      <td>918318</td>\n",
       "      <td>Marketing</td>\n",
       "    </tr>\n",
       "  </tbody>\n",
       "</table>\n",
       "</div>"
      ],
      "text/plain": [
       "   id_profile               skill\n",
       "0      918318          Consulting\n",
       "1      918318          Management\n",
       "2      918318  Project Management\n",
       "3      918318   Change Management\n",
       "4      918318           Marketing"
      ]
     },
     "execution_count": 4,
     "metadata": {},
     "output_type": "execute_result"
    }
   ],
   "source": [
    "df_skills.head()"
   ]
  },
  {
   "cell_type": "code",
   "execution_count": null,
   "id": "01484918",
   "metadata": {},
   "outputs": [],
   "source": []
  }
 ],
 "metadata": {
  "kernelspec": {
   "display_name": "Python 3 (ipykernel)",
   "language": "python",
   "name": "python3"
  },
  "language_info": {
   "codemirror_mode": {
    "name": "ipython",
    "version": 3
   },
   "file_extension": ".py",
   "mimetype": "text/x-python",
   "name": "python",
   "nbconvert_exporter": "python",
   "pygments_lexer": "ipython3",
   "version": "3.8.11"
  }
 },
 "nbformat": 4,
 "nbformat_minor": 5
}
